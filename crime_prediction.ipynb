{
 "cells": [
  {
   "cell_type": "markdown",
   "metadata": {
    "colab_type": "text",
    "id": "view-in-github"
   },
   "source": [
    "<a href=\"https://colab.research.google.com/github/vrajpatel2312/Crime-Analysis/blob/master/crime_prediction.ipynb\" target=\"_parent\"><img src=\"https://colab.research.google.com/assets/colab-badge.svg\" alt=\"Open In Colab\"/></a>"
   ]
  },
  {
   "cell_type": "code",
   "execution_count": 84,
   "metadata": {},
   "outputs": [],
   "source": [
    "import pandas as pd\n",
    "import scipy.stats as stat\n",
    "import matplotlib.pyplot as plt\n",
    "import csv\n",
    "import matplotlib.pyplot as plt\n",
    "import numpy as np\n",
    "import pandas as pd\n",
    "import seaborn as sns\n",
    "from sklearn.utils import shuffle\n",
    "from sklearn.linear_model import LogisticRegression\n",
    "import codecs\n",
    "import pandas as pd\n",
    "import numpy as np\n",
    "import seaborn as sns\n",
    "from sklearn import metrics\n",
    "from sklearn.metrics import classification_report\n",
    "from sklearn.tree import DecisionTreeClassifier\n",
    "\n",
    "from sklearn.ensemble import RandomForestClassifier\n",
    "from sklearn.svm import SVC\n",
    "from sklearn.neighbors import KNeighborsClassifier\n",
    "from sklearn.model_selection import train_test_split\n",
    "from sklearn.naive_bayes import GaussianNB\n",
    "random_forest = RandomForestClassifier(n_estimators=100)\n",
    "\n",
    "borough= ['BRONX','BROOKLYN','MANHATTAN','STATEN ISLAND']\n",
    "\n",
    "\n",
    "def run():\n",
    "  for j in borough:\n",
    "      PATH='datasets/'+j+'_cleaned.csv'\n",
    "      data = pd.read_csv(PATH)\n",
    "      data= data.drop(columns='Unnamed: 0')\n",
    "      x_test =data[data['rate'].isnull()]\n",
    "      x_test= x_test.drop(columns=['rate'])\n",
    "      \n",
    "      x= data.dropna()\n",
    "      x_train = x.drop(columns=['rate'])\n",
    "      y_train = x['rate']\n",
    "      \n",
    "      predict(random_forest,'random forest',x_train,y_train,x_test,x,j)\n",
    "\n",
    "def predict(model,name,x_train,y_train,x_test,x,j):\n",
    "    model.fit(x_train, y_train)\n",
    "    y_pred = model.predict(x_test)    \n",
    "    x_test['rate']=y_pred   \n",
    "    output = x.append(x_test)\n",
    "    path = 'datasets/'+j+'_predicted.csv'\n",
    "    output = output.to_csv(path)\n",
    "run()    \n",
    "    \n",
    "    \n",
    "    \n",
    "    \n",
    "   \n",
    "\n",
    "\n"
   ]
  }
 ],
 "metadata": {
  "colab": {
   "include_colab_link": true,
   "name": "Untitled5.ipynb",
   "provenance": []
  },
  "kernelspec": {
   "display_name": "Python 3",
   "language": "python",
   "name": "python3"
  },
  "language_info": {
   "codemirror_mode": {
    "name": "ipython",
    "version": 3
   },
   "file_extension": ".py",
   "mimetype": "text/x-python",
   "name": "python",
   "nbconvert_exporter": "python",
   "pygments_lexer": "ipython3",
   "version": "3.7.4"
  }
 },
 "nbformat": 4,
 "nbformat_minor": 1
}
