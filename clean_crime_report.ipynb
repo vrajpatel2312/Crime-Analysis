{
  "nbformat": 4,
  "nbformat_minor": 0,
  "metadata": {
    "colab": {
      "name": "clean",
      "provenance": [],
      "collapsed_sections": [],
      "include_colab_link": true
    },
    "kernelspec": {
      "name": "python3",
      "display_name": "Python 3"
    }
  },
  "cells": [
    {
      "cell_type": "markdown",
      "metadata": {
        "id": "view-in-github",
        "colab_type": "text"
      },
      "source": [
        "<a href=\"https://colab.research.google.com/github/vrajpatel2312/Crime-Analysis/blob/master/clean_crime_report.ipynb\" target=\"_parent\"><img src=\"https://colab.research.google.com/assets/colab-badge.svg\" alt=\"Open In Colab\"/></a>"
      ]
    },
    {
      "cell_type": "code",
      "metadata": {
        "id": "9ZkYHwyKSyi4",
        "colab_type": "code",
        "colab": {}
      },
      "source": [
        "import csv\n",
        "import pandas as pd"
      ],
      "execution_count": 0,
      "outputs": []
    },
    {
      "cell_type": "code",
      "metadata": {
        "id": "Ay3QzwmLS9wJ",
        "colab_type": "code",
        "colab": {}
      },
      "source": [
        "data = pd.read_csv('final.csv')\n"
      ],
      "execution_count": 0,
      "outputs": []
    },
    {
      "cell_type": "code",
      "metadata": {
        "id": "YKegQZzNTDjW",
        "colab_type": "code",
        "colab": {}
      },
      "source": [
        "data = pd.DataFrame(data)"
      ],
      "execution_count": 0,
      "outputs": []
    },
    {
      "cell_type": "code",
      "metadata": {
        "id": "EZG4O2XaTIYt",
        "colab_type": "code",
        "colab": {}
      },
      "source": [
        "data.columns\n",
        "data=data.dropna()"
      ],
      "execution_count": 0,
      "outputs": []
    },
    {
      "cell_type": "code",
      "metadata": {
        "id": "cGAWOku5TZlr",
        "colab_type": "code",
        "colab": {}
      },
      "source": [
        "temp=[]\n",
        "count=0\n",
        "for i in data['CMPLNT_FR_DT']:\n",
        "  temp.append(i.split('/'))"
      ],
      "execution_count": 0,
      "outputs": []
    },
    {
      "cell_type": "code",
      "metadata": {
        "id": "QVKqfbTkU_dI",
        "colab_type": "code",
        "colab": {}
      },
      "source": [
        "e = pd.DataFrame(temp,columns=['month','day','year'])\n",
        "temp1=[]\n",
        "for i in e['month']:\n",
        "  if i != '10':\n",
        "    \n",
        "    temp1.append(i.replace('0',''))\n",
        "  else:\n",
        "    temp1.append(i)\n",
        "temp2=[]\n",
        "for i in e['year']: \n",
        "  i = int(i)+3   \n",
        "  temp2.append(i)\n",
        "data['month']= temp1\n",
        "data['year']=temp2"
      ],
      "execution_count": 0,
      "outputs": []
    },
    {
      "cell_type": "code",
      "metadata": {
        "id": "OFa1f4RQtM9D",
        "colab_type": "code",
        "outputId": "775feb1c-2d6b-4c98-c02d-ea2b70646eeb",
        "colab": {
          "base_uri": "https://localhost:8080/",
          "height": 510
        }
      },
      "source": [
        "count = pd.DataFrame(columns=['year','month','region','count'])\n",
        "# value = data[(data[\"year\"]==2018) & (data['month']=='1') & (data['BORO_NM']=='BRONX')].count()\n",
        "# print(value['year'])\n",
        "\n",
        "for i in data.year.unique():\n",
        "  if i > 1989:\n",
        "    print(i)\n",
        "    for j in data.month.unique():\n",
        "      \n",
        "      for k in data.BORO_NM.unique():\n",
        "        \n",
        "        value =data[(data[\"year\"]==i) & (data['month']==j) & (data['BORO_NM']==k)].count()\n",
        "        count = count.append({'year' : i,'month':j , 'region' :k, 'count': value['year']} , ignore_index=True)\n"
      ],
      "execution_count": 10,
      "outputs": [
        {
          "output_type": "stream",
          "text": [
            "2018\n",
            "2016\n",
            "2012\n",
            "2017\n",
            "2014\n",
            "2007\n",
            "2015\n",
            "1995\n",
            "2013\n",
            "2011\n",
            "2009\n",
            "2010\n",
            "2008\n",
            "2004\n",
            "1998\n",
            "1996\n",
            "2003\n",
            "2005\n",
            "1993\n",
            "2002\n",
            "1999\n",
            "2006\n",
            "1990\n",
            "1992\n",
            "2001\n",
            "2000\n",
            "1994\n",
            "1997\n",
            "1991\n"
          ],
          "name": "stdout"
        }
      ]
    },
    {
      "cell_type": "code",
      "metadata": {
        "id": "vRRDKfr9v32g",
        "colab_type": "code",
        "colab": {}
      },
      "source": [
        "write = count.to_csv(path_or_buf='genertrated.csv')"
      ],
      "execution_count": 0,
      "outputs": []
    },
    {
      "cell_type": "code",
      "metadata": {
        "id": "ZBs1a2rBFWv7",
        "colab_type": "code",
        "colab": {}
      },
      "source": [
        "data.year.unique()"
      ],
      "execution_count": 0,
      "outputs": []
    }
  ]
}