{
  "nbformat": 4,
  "nbformat_minor": 0,
  "metadata": {
    "colab": {
      "name": "Clean data file.ipynb",
      "provenance": [],
      "collapsed_sections": [],
      "include_colab_link": true
    },
    "kernelspec": {
      "name": "python3",
      "display_name": "Python 3"
    },
    "accelerator": "GPU"
  },
  "cells": [
    {
      "cell_type": "markdown",
      "metadata": {
        "id": "view-in-github",
        "colab_type": "text"
      },
      "source": [
        "<a href=\"https://colab.research.google.com/github/vrajpatel2312/Crime-Analysis/blob/master/Clean_data_file.ipynb\" target=\"_parent\"><img src=\"https://colab.research.google.com/assets/colab-badge.svg\" alt=\"Open In Colab\"/></a>"
      ]
    },
    {
      "cell_type": "code",
      "metadata": {
        "id": "mtxtkGzyF_12",
        "colab_type": "code",
        "colab": {
          "base_uri": "https://localhost:8080/",
          "height": 34
        },
        "outputId": "0e28e8c2-60c4-4504-9c05-cd8cc7358703"
      },
      "source": [
        "from google.colab import drive\n",
        "drive.mount('/content/drive')"
      ],
      "execution_count": 293,
      "outputs": [
        {
          "output_type": "stream",
          "text": [
            "Drive already mounted at /content/drive; to attempt to forcibly remount, call drive.mount(\"/content/drive\", force_remount=True).\n"
          ],
          "name": "stdout"
        }
      ]
    },
    {
      "cell_type": "code",
      "metadata": {
        "id": "xpBmVWuWEzfe",
        "colab_type": "code",
        "colab": {}
      },
      "source": [
        "import pandas as pd\n",
        "from sklearn.linear_model import LinearRegression\n",
        "months = pd.DataFrame(columns=['months'])\n",
        "month = [1,2,3,4,5,6,7,8,9,10,11,12]*7\n",
        "months['months']= month\n",
        "data = pd.read_csv('/content/drive/My Drive/datasets/bronx.csv',index_col=0)\n",
        "data = pd.DataFrame(data,columns=['Year','Jan%'\t,'Feb%'\t,'Mar%'\t,'Apr%'\t,'May%'\t,'Jun%'\t,'Jul%'\t,'Aug%'\t,'Sep%'\t,'Oct%'\t,'Nov%'\t,'Dec%'])\n",
        "data= data.drop(columns=['Year'])\n",
        "data = data.transpose().reset_index().rename(columns={'index':'Month'})\n",
        "data.columns.name = None\n",
        "for col in data.columns:\n",
        "  data[col] = data[col].str.rstrip(\"%\")\n",
        "data=pd.melt(data, id_vars =['Month'], value_vars =[2019, 2018,2017,2016,2015,2014,2013])\n",
        "\n",
        "data['Month']= month\n",
        "x_test =data[data['value'].isnull()]\n",
        "x_test = x_test.drop(columns=['value'])\n",
        "data = data.dropna()\n",
        "x_train= data.drop(columns=['value'])\n",
        "y_train = data.drop(columns=['Month','variable'])\n",
        "model = LinearRegression()\n",
        "model = model.fit(x_train,y_train)\n",
        "y_pred = model.predict(x_test)\n",
        "x_test['value']= y_pred\n",
        "output = data.dropna()\n",
        "output = output.append(x_test)\n",
        "output = output.to_csv('/content/drive/My Drive/datasets/filename.csv')"
      ],
      "execution_count": 0,
      "outputs": []
    }
  ]
}