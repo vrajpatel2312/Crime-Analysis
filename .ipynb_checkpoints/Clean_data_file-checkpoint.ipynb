{
 "cells": [
  {
   "cell_type": "markdown",
   "metadata": {
    "colab_type": "text",
    "id": "view-in-github"
   },
   "source": [
    "<a href=\"https://colab.research.google.com/github/vrajpatel2312/Crime-Analysis/blob/master/Clean_data_file.ipynb\" target=\"_parent\"><img src=\"https://colab.research.google.com/assets/colab-badge.svg\" alt=\"Open In Colab\"/></a>"
   ]
  },
  {
   "cell_type": "code",
   "execution_count": 4,
   "metadata": {
    "colab": {},
    "colab_type": "code",
    "id": "xpBmVWuWEzfe"
   },
   "outputs": [],
   "source": [
    "import pandas as pd\n",
    "from sklearn.linear_model import LinearRegression\n",
    "import numpy as np\n",
    "\n",
    "borough =['BRONX','BROOKLYN','STATEN ISLAND','QUEENS','MANHATTAN']\n",
    "\n",
    "def gen_f(borough):\n",
    "  rate = pd.read_csv('datasets/generated.csv')\n",
    "  months = pd.DataFrame(columns=['months'])\n",
    "  month = [1,2,3,4,5,6,7,8,9,10,11,12]*3\n",
    "  months['months']= month\n",
    "  PATH='datasets/'+borough+'.csv'\n",
    "  data = pd.read_csv(PATH,index_col=0)\n",
    "  data = pd.DataFrame(data,columns=['Year','Jan%'\t,'Feb%'\t,'Mar%'\t,'Apr%'\t,'May%'\t,'Jun%'\t,'Jul%'\t,'Aug%'\t,'Sep%'\t,'Oct%'\t,'Nov%'\t,'Dec%'])\n",
    "  data= data.drop(columns=['Year'])\n",
    "  data = data.transpose().reset_index().rename(columns={'index':'Month'})\n",
    "  data.columns.name = None\n",
    "  for col in data.columns:\n",
    "    data[col] = data[col].str.rstrip(\"%\")\n",
    "  data=pd.melt(data, id_vars =['Month'], value_vars =[2019, 2018,2017])\n",
    "\n",
    "  data['Month']= month\n",
    "  x_test =data[data['value'].isnull()]\n",
    "  x_test = x_test.drop(columns=['value'])\n",
    "  data = data.dropna()\n",
    "  x_train= data.drop(columns=['value'])\n",
    "  y_train = data.drop(columns=['Month','variable'])\n",
    "  model = LinearRegression()\n",
    "  model = model.fit(x_train,y_train)\n",
    "  y_pred = model.predict(x_test)\n",
    "  x_test['value']= y_pred\n",
    "  output = data.dropna()\n",
    "  output = x_test.append(output)\n",
    "  rate=rate.drop(columns=['Unnamed: 0'])\n",
    "  table = pd.pivot_table(rate, values='count', index=['month'],columns=['region','year'], aggfunc=np.sum, fill_value=0)\n",
    "  null = ['NaN']*12\n",
    "  rate= null+pd.Series.tolist(table[(borough,2018)])+pd.Series.tolist(table[(borough,2017)])\n",
    "  output['rate']=rate\n",
    "  PATH='datasets/'+borough+'_cleaned.csv'\n",
    "  output = output.to_csv(PATH)\n",
    "\n",
    "for i in borough:\n",
    "  gen_f(i)"
   ]
  }
 ],
 "metadata": {
  "accelerator": "GPU",
  "colab": {
   "collapsed_sections": [],
   "include_colab_link": true,
   "name": "Clean data file.ipynb",
   "provenance": []
  },
  "kernelspec": {
   "display_name": "Python 3",
   "language": "python",
   "name": "python3"
  },
  "language_info": {
   "codemirror_mode": {
    "name": "ipython",
    "version": 3
   },
   "file_extension": ".py",
   "mimetype": "text/x-python",
   "name": "python",
   "nbconvert_exporter": "python",
   "pygments_lexer": "ipython3",
   "version": "3.7.4"
  }
 },
 "nbformat": 4,
 "nbformat_minor": 1
}
