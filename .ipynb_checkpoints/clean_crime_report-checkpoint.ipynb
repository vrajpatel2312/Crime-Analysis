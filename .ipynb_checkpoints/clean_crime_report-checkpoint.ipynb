{
 "cells": [
  {
   "cell_type": "markdown",
   "metadata": {
    "colab_type": "text",
    "id": "view-in-github"
   },
   "source": [
    "<a href=\"https://colab.research.google.com/github/vrajpatel2312/Crime-Analysis/blob/master/clean_crime_report.ipynb\" target=\"_parent\"><img src=\"https://colab.research.google.com/assets/colab-badge.svg\" alt=\"Open In Colab\"/></a>"
   ]
  },
  {
   "cell_type": "code",
   "execution_count": 10,
   "metadata": {
    "colab": {},
    "colab_type": "code",
    "id": "9ZkYHwyKSyi4"
   },
   "outputs": [],
   "source": [
    "import csv\n",
    "import pandas as pd"
   ]
  },
  {
   "cell_type": "code",
   "execution_count": 11,
   "metadata": {
    "colab": {},
    "colab_type": "code",
    "id": "Ay3QzwmLS9wJ"
   },
   "outputs": [],
   "source": [
    "data = pd.read_csv('datasets/uncleaned_crime_report.csv')\n"
   ]
  },
  {
   "cell_type": "code",
   "execution_count": 12,
   "metadata": {
    "colab": {},
    "colab_type": "code",
    "id": "YKegQZzNTDjW"
   },
   "outputs": [],
   "source": [
    "data = pd.DataFrame(data)"
   ]
  },
  {
   "cell_type": "code",
   "execution_count": 13,
   "metadata": {
    "colab": {},
    "colab_type": "code",
    "id": "EZG4O2XaTIYt"
   },
   "outputs": [],
   "source": [
    "data.columns\n",
    "data=data.dropna()"
   ]
  },
  {
   "cell_type": "code",
   "execution_count": 14,
   "metadata": {
    "colab": {},
    "colab_type": "code",
    "id": "cGAWOku5TZlr"
   },
   "outputs": [],
   "source": [
    "temp=[]\n",
    "count=0\n",
    "for i in data['CMPLNT_FR_DT']:\n",
    "  temp.append(i.split('/'))"
   ]
  },
  {
   "cell_type": "code",
   "execution_count": 15,
   "metadata": {
    "colab": {},
    "colab_type": "code",
    "id": "QVKqfbTkU_dI"
   },
   "outputs": [],
   "source": [
    "e = pd.DataFrame(temp,columns=['month','day','year'])\n",
    "temp1=[]\n",
    "for i in e['month']:\n",
    "  if i != '10':\n",
    "    \n",
    "    temp1.append(i.replace('0',''))\n",
    "  else:\n",
    "    temp1.append(i)\n",
    "temp2=[]\n",
    "for i in e['year']: \n",
    "  i = int(i)+3   \n",
    "  temp2.append(i)\n",
    "data['month']= temp1\n",
    "data['year']=temp2"
   ]
  },
  {
   "cell_type": "code",
   "execution_count": 16,
   "metadata": {
    "colab": {
     "base_uri": "https://localhost:8080/",
     "height": 510
    },
    "colab_type": "code",
    "id": "OFa1f4RQtM9D",
    "outputId": "775feb1c-2d6b-4c98-c02d-ea2b70646eeb"
   },
   "outputs": [
    {
     "name": "stdout",
     "output_type": "stream",
     "text": [
      "2018\n",
      "2017\n"
     ]
    }
   ],
   "source": [
    "count = pd.DataFrame(columns=['year','month','region','count'])\n",
    "# value = data[(data[\"year\"]==2018) & (data['month']=='1') & (data['BORO_NM']=='BRONX')].count()\n",
    "# print(value['year'])\n",
    "\n",
    "for i in data.year.unique():\n",
    "  if i > 2016:\n",
    "    print(i)\n",
    "    for j in data.month.unique():\n",
    "      \n",
    "      for k in data.BORO_NM.unique():\n",
    "        \n",
    "        value =data[(data[\"year\"]==i) & (data['month']==j) & (data['BORO_NM']==k)].count()\n",
    "        count = count.append({'year' : i,'month':j , 'region' :k, 'count': value['year']} , ignore_index=True)\n"
   ]
  },
  {
   "cell_type": "code",
   "execution_count": 17,
   "metadata": {
    "colab": {},
    "colab_type": "code",
    "id": "vRRDKfr9v32g"
   },
   "outputs": [],
   "source": [
    "write = count.to_csv(path_or_buf='datasets/genertrated.csv')"
   ]
  },
  {
   "cell_type": "code",
   "execution_count": 9,
   "metadata": {
    "colab": {},
    "colab_type": "code",
    "id": "ZBs1a2rBFWv7"
   },
   "outputs": [
    {
     "data": {
      "text/plain": [
       "array([2018, 2016, 2012, 2017, 2014, 2007, 2015, 1995, 1972, 2013, 1982,\n",
       "       2011, 2009, 2010, 2008, 2004, 1985, 1018, 1998, 1996, 1968, 2003,\n",
       "       2005, 1993, 2002, 1999, 2006, 1990, 1978, 1992, 1918, 1989, 1984,\n",
       "       1953, 2001, 1981, 2000, 1913, 1994, 1958, 1961, 1997, 1977, 1917,\n",
       "       1980, 1983, 1933, 1991, 1916, 1944, 1948, 1957, 1974, 1976],\n",
       "      dtype=int64)"
      ]
     },
     "execution_count": 9,
     "metadata": {},
     "output_type": "execute_result"
    }
   ],
   "source": []
  }
 ],
 "metadata": {
  "colab": {
   "collapsed_sections": [],
   "include_colab_link": true,
   "name": "clean",
   "provenance": []
  },
  "kernelspec": {
   "display_name": "Python 3",
   "language": "python",
   "name": "python3"
  },
  "language_info": {
   "codemirror_mode": {
    "name": "ipython",
    "version": 3
   },
   "file_extension": ".py",
   "mimetype": "text/x-python",
   "name": "python",
   "nbconvert_exporter": "python",
   "pygments_lexer": "ipython3",
   "version": "3.7.3"
  }
 },
 "nbformat": 4,
 "nbformat_minor": 1
}
